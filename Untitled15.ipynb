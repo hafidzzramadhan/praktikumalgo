{
  "nbformat": 4,
  "nbformat_minor": 0,
  "metadata": {
    "colab": {
      "provenance": [],
      "authorship_tag": "ABX9TyNR48pmNh+J/sNVkNY3giPl",
      "include_colab_link": true
    },
    "kernelspec": {
      "name": "python3",
      "display_name": "Python 3"
    },
    "language_info": {
      "name": "python"
    }
  },
  "cells": [
    {
      "cell_type": "markdown",
      "metadata": {
        "id": "view-in-github",
        "colab_type": "text"
      },
      "source": [
        "<a href=\"https://colab.research.google.com/github/hafidzzramadhan/praktikumalgo/blob/main/Untitled15.ipynb\" target=\"_parent\"><img src=\"https://colab.research.google.com/assets/colab-badge.svg\" alt=\"Open In Colab\"/></a>"
      ]
    },
    {
      "cell_type": "code",
      "execution_count": null,
      "metadata": {
        "id": "RLyo1r9_zJjJ"
      },
      "outputs": [],
      "source": [
        "def create_python_banner():\n",
        "    banner = \"\"\"\n",
        "  @@.   @@.      @@@@.    @@@@@@@.   @@\n",
        "  @@.   @@.    @.    @.   @@.        @@    @@@@@@@@@@@\n",
        "  @@@@@@@@.   @@@@@@@@.   @@@@@@@    @@             @\n",
        "  @@.   @@.   @.     @.   @@         @@           @@\n",
        "  @@.   @@.   @.     @.   @@         @@          @@@@@@@@@@@\n",
        "    \"\"\"\n",
        "    return banner\n",
        "\n",
        "print(create_python_banner())\n",
        "# Membaca input dari pengguna untuk membuat list angka\n",
        "angka = input(\"Masukkan angka-angka, dipisahkan oleh spasi: \")\n",
        "\n",
        "# Memisahkan angka yang dimasukkan menjadi elemen-elemen dalam list\n",
        "angka = angka.split()\n",
        "\n",
        "# Mengkonversi angka-angka dalam list menjadi tipe data integer\n",
        "angka = [int(x) for x in angka]\n",
        "\n",
        "# Membuat variabel untuk menandai apakah terdapat angka genap\n",
        "terdapat_genap = False\n",
        "\n",
        "# Iterasi melalui list angka\n",
        "for bilangan in angka:\n",
        "    if bilangan % 2 == 0:\n",
        "        terdapat_genap = True\n",
        "        break  # Keluar dari loop jika ditemukan angka genap\n",
        "\n",
        "# Mengecek apakah terdapat angka genap dan menampilkan pesan sesuai hasilnya\n",
        "if terdapat_genap:\n",
        "    print(\"Terdapat angka genap dalam list.\")\n",
        "else:\n",
        "    print(\"Tidak terdapat angka genap dalam list.\")"
      ]
    }
  ]
}