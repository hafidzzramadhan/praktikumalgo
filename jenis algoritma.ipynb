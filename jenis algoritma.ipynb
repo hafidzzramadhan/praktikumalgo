{
  "cells": [
    {
      "cell_type": "markdown",
      "metadata": {
        "id": "view-in-github",
        "colab_type": "text"
      },
      "source": [
        "<a href=\"https://colab.research.google.com/github/hafidzzramadhan/praktikumalgo/blob/main/jenis%20algoritma.ipynb\" target=\"_parent\"><img src=\"https://colab.research.google.com/assets/colab-badge.svg\" alt=\"Open In Colab\"/></a>"
      ]
    },
    {
      "cell_type": "code",
      "source": [
        "def linear_search(arr, target):\n",
        "    for i in range(len(arr)):\n",
        "        if arr[i] == target:\n",
        "            return True  # Mengembalikan True jika elemen ditemukan\n",
        "    return False  # Mengembalikan False jika elemen tidak ditemukan\n",
        "\n",
        "# Input jumlah angka pada list\n",
        "jumlah_angka = int(input(\"Masukkan jumlah angka pada List: \"))\n",
        "\n",
        "# Menggunakan list comprehension untuk meminta input angka sejumlah yang diinginkan\n",
        "angka_list = [int(input(f\"Angka ke-{i + 1}: \")) for i in range(jumlah_angka)]\n",
        "\n",
        "print(f\"List angka -> {angka_list}\")\n",
        "\n",
        "# Input angka yang dicari\n",
        "angka_cari = int(input(\"Masukkan angka yang dicari: \"))\n",
        "\n",
        "# Melakukan Linear Search\n",
        "hasil_pencarian = linear_search(angka_list, angka_cari)\n",
        "\n",
        "# Menampilkan hasil pencarian\n",
        "if hasil_pencarian:\n",
        "    print(\"Hasil Linear Search -> Ditemukan\")\n",
        "else:\n",
        "    print(\"Hasil Linear Search -> Tidak Ditemukan\")\n"
      ],
      "metadata": {
        "id": "OgcrcJvuMPsP",
        "outputId": "e822ce38-d0dd-417e-e810-9e824e177a81",
        "colab": {
          "base_uri": "https://localhost:8080/"
        }
      },
      "execution_count": 2,
      "outputs": [
        {
          "output_type": "stream",
          "name": "stdout",
          "text": [
            "Masukkan jumlah angka pada List: 4\n",
            "Angka ke-1: 10\n",
            "Angka ke-2: 20\n",
            "Angka ke-3: 223\n",
            "Angka ke-4: 1\n",
            "List angka -> [10, 20, 223, 1]\n",
            "Masukkan angka yang dicari: 10\n",
            "Hasil Linear Search -> Ditemukan\n"
          ]
        }
      ]
    },
    {
      "cell_type": "code",
      "source": [
        "def Binary_search(num,nilai_dicari,kiri,kanan):\n",
        "    while kiri <= kanan:\n",
        "        mid = (kiri + kanan)//2\n",
        "        if nilai_dicari == num[mid]:\n",
        "            return mid\n",
        "        elif nilai_dicari > num[mid]:\n",
        "            kiri = mid + 1\n",
        "        else:\n",
        "            kanan = mid - 1\n",
        "    return -1\n",
        "num =[]\n",
        "minta=int(input('berapa rangenya? '))\n",
        "for i in range(minta):\n",
        "    i+=1\n",
        "    num.append(int(input(f'masukan angka ke {i}:')))\n",
        "print(num)\n",
        "nilai_dicari = int(input('angka berapa?'))\n",
        "hasil = Binary_search(num,nilai_dicari,0,len(num)-1)\n",
        "if hasil != -1:\n",
        "    print(\"Angka ditemukan pada index ke \" + str(hasil))\n",
        "else:\n",
        "    print(\"Angka tidak ditemukan\")"
      ],
      "metadata": {
        "id": "7au7HwU7N9-o",
        "outputId": "59dbb61c-c923-432f-c4c0-d518315950e7",
        "colab": {
          "base_uri": "https://localhost:8080/"
        }
      },
      "execution_count": 4,
      "outputs": [
        {
          "output_type": "stream",
          "name": "stdout",
          "text": [
            "berapa rangenya? 5\n",
            "masukan angka ke 1:1\n",
            "masukan angka ke 2:2\n",
            "masukan angka ke 3:3\n",
            "masukan angka ke 4:4\n",
            "masukan angka ke 5:5\n",
            "[1, 2, 3, 4, 5]\n",
            "angka berapa?2\n",
            "Angka ditemukan pada index ke 1\n"
          ]
        }
      ]
    },
    {
      "cell_type": "code",
      "source": [
        "def bubble_sorted():\n",
        "    list=[]\n",
        "    minta=int(input('berapa rangenya? '))\n",
        "    for i in range(minta):\n",
        "        i+=1\n",
        "        list.append(int(input(f'masukan angka ke {i}:')))\n",
        "    print('list normalnya:',list)\n",
        "    for i in range(len(list)-1):\n",
        "        for j in range(len(list)-1-i):\n",
        "            if list[j]>list[j+1]:\n",
        "                list[j],list[j+1] = list[j+1],list[j]\n",
        "    print(f'Hasil Bubble Sort = {list}')\n",
        "bubble_sorted()"
      ],
      "metadata": {
        "id": "HcCSMSkYP-vN"
      },
      "execution_count": null,
      "outputs": []
    },
    {
      "cell_type": "code",
      "source": [
        "print(\"=====================================\")\n",
        "print(\"    Dr.HAFIDZ RAMADHAN S,M.Kom.Phd                \")\n",
        "print(\"=====================================\")\n",
        "def bubble_sorted():\n",
        "    list=[]\n",
        "    minta=int(input('berapa rangenya? '))\n",
        "    for i in range(minta):\n",
        "        i+=1\n",
        "        list.append(int(input(f'masukan angka ke {i}:')))\n",
        "    print('list normalnya:',list)\n",
        "    for i in range(len(list)-1):\n",
        "        for j in range(len(list)-1-i):\n",
        "            if list[j]>list[j+1]:\n",
        "                list[j],list[j+1] = list[j+1],list[j]\n",
        "    print(f'Hasil Bubble Sort = {list}')\n",
        "bubble_sorted()"
      ],
      "metadata": {
        "id": "BZzc7mgQQEXG",
        "outputId": "da907058-6c38-494b-8fe9-1d112df97894",
        "colab": {
          "base_uri": "https://localhost:8080/"
        }
      },
      "execution_count": 9,
      "outputs": [
        {
          "output_type": "stream",
          "name": "stdout",
          "text": [
            "=====================================\n",
            "    Dr.HAFIDZ RAMADHAN S,M.Kom.Phd                \n",
            "=====================================\n",
            "berapa rangenya? 5\n",
            "masukan angka ke 1:12\n",
            "masukan angka ke 2:14\n",
            "masukan angka ke 3:16\n",
            "masukan angka ke 4:13\n",
            "masukan angka ke 5:15\n",
            "list normalnya: [12, 14, 16, 13, 15]\n",
            "Hasil Bubble Sort = [12, 13, 14, 15, 16]\n"
          ]
        }
      ]
    },
    {
      "cell_type": "code",
      "source": [
        "def selection():\n",
        "    list=[]\n",
        "    minta=int(input('Berapa kali maunya\n",
        "    5? '))\n",
        "    for i in range(minta):\n",
        "        i+=1\n",
        "        list.append(int(input(f'Masukan angka ke {i}: ')))\n",
        "    print (f'list: {list}')\n",
        "    for i in range(0,len(list)-1):\n",
        "        p=0\n",
        "        mini=list[-1]\n",
        "        for j in range(i,len(list)):\n",
        "            if list[j]<=mini:\n",
        "                mini=list[j]\n",
        "                p=j\n",
        "        list[i],list[p]=list[p],list[i]\n",
        "    print(f'list dengan selection: {list}')\n",
        "selection()"
      ],
      "metadata": {
        "id": "S_EmqcxxQFwL",
        "outputId": "ec268787-c2e7-44ae-b31a-8dcac24b8e3a",
        "colab": {
          "base_uri": "https://localhost:8080/"
        }
      },
      "execution_count": 10,
      "outputs": [
        {
          "output_type": "stream",
          "name": "stdout",
          "text": [
            "Berapa kali maunya? 5\n",
            "Masukan angka ke 1: 1\n",
            "Masukan angka ke 2: 100\n",
            "Masukan angka ke 3: 20\n",
            "Masukan angka ke 4: 300\n",
            "Masukan angka ke 5: 400\n",
            "list: [1, 100, 20, 300, 400]\n",
            "list dengan selection: [1, 20, 100, 300, 400]\n"
          ]
        }
      ]
    }
  ],
  "metadata": {
    "colab": {
      "provenance": [],
      "authorship_tag": "ABX9TyNQ2+1p/6h0tAMoJ8jy3YvV",
      "include_colab_link": true
    },
    "kernelspec": {
      "display_name": "Python 3",
      "name": "python3"
    },
    "language_info": {
      "name": "python"
    }
  },
  "nbformat": 4,
  "nbformat_minor": 0
}