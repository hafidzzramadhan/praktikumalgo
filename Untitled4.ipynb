{
  "nbformat": 4,
  "nbformat_minor": 0,
  "metadata": {
    "colab": {
      "provenance": [],
      "authorship_tag": "ABX9TyNIunVYiqduxdMFIAzLts2b",
      "include_colab_link": true
    },
    "kernelspec": {
      "name": "python3",
      "display_name": "Python 3"
    },
    "language_info": {
      "name": "python"
    }
  },
  "cells": [
    {
      "cell_type": "markdown",
      "metadata": {
        "id": "view-in-github",
        "colab_type": "text"
      },
      "source": [
        "<a href=\"https://colab.research.google.com/github/hafidzzramadhan/praktikumalgo/blob/main/Untitled4.ipynb\" target=\"_parent\"><img src=\"https://colab.research.google.com/assets/colab-badge.svg\" alt=\"Open In Colab\"/></a>"
      ]
    },
    {
      "cell_type": "code",
      "execution_count": 1,
      "metadata": {
        "colab": {
          "base_uri": "https://localhost:8080/"
        },
        "id": "jRK5rBzl5qHR",
        "outputId": "540662d6-6a7e-43f8-c5d9-21433f80c861"
      },
      "outputs": [
        {
          "output_type": "stream",
          "name": "stdout",
          "text": [
            "GENAP --> JARAK TEMPUH\n",
            "Masukan V0 : 45\n",
            "Masukan a :55\n",
            "Masukan s :22\n",
            "Jarak tempuh jika kecepatan awal45.0 Dengan percepatan 55.0 dan jarak tempuh 22.0 adalah 4445.0\n"
          ]
        }
      ],
      "source": [
        "print(\"GENAP --> JARAK TEMPUH\")\n",
        "V0=float(input(\"Masukan V0 : \"))\n",
        "a=float(input(\"Masukan a :\"))\n",
        "s=float(input(\"Masukan s :\"))\n",
        "hasil=V0**2+2*a*s\n",
        "print(f\"Jarak tempuh jika kecepatan awal{V0} Dengan percepatan {a} dan jarak tempuh {s} adalah\",hasil)"
      ]
    }
  ]
}