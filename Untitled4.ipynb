{
  "nbformat": 4,
  "nbformat_minor": 0,
  "metadata": {
    "colab": {
      "provenance": [],
      "authorship_tag": "ABX9TyPAWXTLFEaqmL3V8wIlIRju",
      "include_colab_link": true
    },
    "kernelspec": {
      "name": "python3",
      "display_name": "Python 3"
    },
    "language_info": {
      "name": "python"
    }
  },
  "cells": [
    {
      "cell_type": "markdown",
      "metadata": {
        "id": "view-in-github",
        "colab_type": "text"
      },
      "source": [
        "<a href=\"https://colab.research.google.com/github/hafidzzramadhan/praktikumalgo/blob/main/Untitled4.ipynb\" target=\"_parent\"><img src=\"https://colab.research.google.com/assets/colab-badge.svg\" alt=\"Open In Colab\"/></a>"
      ]
    },
    {
      "cell_type": "code",
      "source": [
        "print(\"=====================================\")\n",
        "print(\"            HAFIDZ RAMADHAN          \") #LK 1\n",
        "print(\"=====================================\")\n",
        "\n",
        "def hitung_faktorial(n):\n",
        "    if n == 0 or n == 1:\n",
        "        return 1\n",
        "    else:\n",
        "        return n * hitung_faktorial(n - 1)\n",
        "\n",
        "# Input bilangan dari pengguna\n",
        "bilangan_input = int(input(\"Masukkan bilangan untuk menghitung faktorial: \"))\n",
        "\n",
        "# Memanggil fungsi untuk menghitung faktorial\n",
        "hasil_faktorial = hitung_faktorial(bilangan_input)\n",
        "\n",
        "# Menampilkan hasil\n",
        "print(f\"Faktorial dari {bilangan_input} adalah: {hasil_faktorial}\")\n",
        "\n"
      ],
      "metadata": {
        "colab": {
          "base_uri": "https://localhost:8080/"
        },
        "id": "qemfDr-d6WcS",
        "outputId": "059d2c2b-f72c-455a-e523-03473687a56e"
      },
      "execution_count": 1,
      "outputs": [
        {
          "output_type": "stream",
          "name": "stdout",
          "text": [
            "=====================================\n",
            "            HAFIDZ RAMADHAN          \n",
            "=====================================\n",
            "Masukkan bilangan untuk menghitung faktorial: 5\n",
            "Faktorial dari 5 adalah: 120\n"
          ]
        }
      ]
    },
    {
      "cell_type": "code",
      "source": [
        "print(\"=====================================\")\n",
        "print(\"            HAFIDZ RAMADHAN          \") #LK2\n",
        "print(\"=====================================\")\n",
        "def hitung_vokal_konsonan(kalimat):\n",
        "    # Menginisialisasi jumlah huruf vokal dan konsonan\n",
        "    jumlah_vokal = 0\n",
        "    jumlah_konsonan = 0\n",
        "\n",
        "    # Mengubah kalimat menjadi huruf kecil agar tidak memperhatikan huruf besar atau kecil\n",
        "    kalimat = kalimat.lower()\n",
        "\n",
        "    # Mengecek setiap karakter dalam kalimat\n",
        "    for char in kalimat:\n",
        "        if char.isalpha():\n",
        "            if char in 'aeiou':\n",
        "                jumlah_vokal += 1\n",
        "            else:\n",
        "                jumlah_konsonan += 1\n",
        "\n",
        "    return jumlah_vokal, jumlah_konsonan\n",
        "\n",
        "# Input kalimat dari pengguna\n",
        "kalimat_input = input(\"Masukkan kalimat: \")\n",
        "\n",
        "# Memanggil fungsi untuk menghitung jumlah huruf vokal dan konsonan\n",
        "jumlah_vokal, jumlah_konsonan = hitung_vokal_konsonan(kalimat_input)\n",
        "\n",
        "# Menampilkan hasil\n",
        "print(f\"Jumlah huruf vokal: {jumlah_vokal}\")\n",
        "print(f\"Jumlah huruf konsonan: {jumlah_konsonan}\")\n"
      ],
      "metadata": {
        "colab": {
          "base_uri": "https://localhost:8080/"
        },
        "id": "wVUuxZkj79gz",
        "outputId": "ce38fbac-7817-4924-a465-2f58ccc6f241"
      },
      "execution_count": 2,
      "outputs": [
        {
          "output_type": "stream",
          "name": "stdout",
          "text": [
            "=====================================\n",
            "            HAFIDZ RAMADHAN          \n",
            "=====================================\n",
            "Masukkan kalimat: hafidz ramadhan\n",
            "Jumlah huruf vokal: 5\n",
            "Jumlah huruf konsonan: 9\n"
          ]
        }
      ]
    },
    {
      "cell_type": "code",
      "source": [
        "print(\"=====================================\")\n",
        "print(\"            HAFIDZ RAMADHAN          \") #LK3\n",
        "print(\"=====================================\")\n",
        "def hitung_kubik(angka):\n",
        "    \"\"\"\n",
        "    Fungsi untuk mengembalikan nilai kubik dari suatu angka.\n",
        "\n",
        "    Parameters:\n",
        "    - angka (int): Angka yang akan dipangkatkan 3.\n",
        "\n",
        "    Returns:\n",
        "    - int: Nilai kubik dari angka.\n",
        "    \"\"\"\n",
        "    return angka**3\n",
        "\n",
        "def cek_habis_dibagi_tiga(angka):\n",
        "    \"\"\"\n",
        "    Fungsi untuk mengecek apakah suatu angka habis dibagi 3.\n",
        "\n",
        "    Parameters:\n",
        "    - angka (int): Angka yang akan dicek.\n",
        "\n",
        "    Returns:\n",
        "    - int or str: Jika habis dibagi 3, kembalikan nilai kubik angka. Jika tidak, kembalikan \"False\".\n",
        "    \"\"\"\n",
        "    if angka % 3 == 0:\n",
        "        return hitung_kubik(angka)\n",
        "    else:\n",
        "        return \"False\"\n",
        "\n",
        "# Input angka dari pengguna\n",
        "angka_input = int(input(\"Masukkan angka: \"))\n",
        "\n",
        "# Memanggil fungsi kedua untuk mengecek dan menghitung kubik jika perlu\n",
        "hasil = cek_habis_dibagi_tiga(angka_input)\n",
        "\n",
        "# Menampilkan hasil\n",
        "print(hasil)\n"
      ],
      "metadata": {
        "colab": {
          "base_uri": "https://localhost:8080/"
        },
        "id": "QB6BWsuY8gR1",
        "outputId": "4846a87c-a381-4878-b9d0-a666b54e9dc7"
      },
      "execution_count": 10,
      "outputs": [
        {
          "output_type": "stream",
          "name": "stdout",
          "text": [
            "=====================================\n",
            "            HAFIDZ RAMADHAN          \n",
            "=====================================\n",
            "Masukkan angka: 729\n",
            "387420489\n"
          ]
        }
      ]
    }
  ]
}