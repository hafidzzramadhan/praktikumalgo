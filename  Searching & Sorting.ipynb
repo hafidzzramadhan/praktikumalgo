{
  "cells": [
    {
      "cell_type": "markdown",
      "metadata": {
        "id": "view-in-github",
        "colab_type": "text"
      },
      "source": [
        "<a href=\"https://colab.research.google.com/github/hafidzzramadhan/praktikumalgo/blob/main/%20Searching%20%26%20Sorting.ipynb\" target=\"_parent\"><img src=\"https://colab.research.google.com/assets/colab-badge.svg\" alt=\"Open In Colab\"/></a>"
      ]
    },
    {
      "cell_type": "code",
      "source": [
        "# Nilai siswa\n",
        "nilai_siswa = [85, 90, 78, 92, 88]\n",
        "\n",
        "# Menghitung rata-rata\n",
        "rata_rata_kelas = sum(nilai_siswa) / len(nilai_siswa)\n",
        "print(f\"Rata-rata nilai kelas: {rata_rata_kelas:.1f}\")\n",
        "\n",
        "# Menentukan siswa yang mendapatkan nilai di atas rata-rata\n",
        "nilai_di_atas_rata_rata = [nilai for nilai in nilai_siswa if nilai > rata_rata_kelas]\n",
        "print(f\"Siswa yang mendapat nilai di atas rata-rata: {nilai_di_atas_rata_rata}\")\n"
      ],
      "metadata": {
        "id": "52L4x5oPtU_a",
        "outputId": "10d37679-2e04-482f-e0fb-ef5fd685c4f6",
        "colab": {
          "base_uri": "https://localhost:8080/"
        }
      },
      "execution_count": 2,
      "outputs": [
        {
          "output_type": "stream",
          "name": "stdout",
          "text": [
            "Rata-rata nilai kelas: 86.6\n",
            "Siswa yang mendapat nilai di atas rata-rata: [90, 92, 88]\n"
          ]
        }
      ]
    },
    {
      "cell_type": "code",
      "source": [
        "# Meminta input dari pengguna\n",
        "jumlah_uang_rupiah = float(input(\"Masukkan jumlah uang dalam Rupiah: \"))\n",
        "kurs_dollar_rupiah = float(input(\"Masukkan kurs Dolar terhadap Rupiah: \"))\n",
        "\n",
        "# Menghitung jumlah uang dalam Dolar\n",
        "jumlah_uang_dollar = jumlah_uang_rupiah / kurs_dollar_rupiah\n",
        "\n",
        "# Menampilkan hasil konversi\n",
        "print(f\"Jumlah uang dalam Dolar: ${jumlah_uang_dollar:.2f}\")\n"
      ],
      "metadata": {
        "id": "ozFIdIKjtXPY",
        "outputId": "c9946115-a5fb-4eef-9e18-f1017d9f12da",
        "colab": {
          "base_uri": "https://localhost:8080/"
        }
      },
      "execution_count": 3,
      "outputs": [
        {
          "output_type": "stream",
          "name": "stdout",
          "text": [
            "Masukkan jumlah uang dalam Rupiah: 10000\n",
            "Masukkan kurs Dolar terhadap Rupiah: 15600\n",
            "Jumlah uang dalam Dolar: $0.64\n"
          ]
        }
      ]
    },
    {
      "cell_type": "code",
      "source": [
        "# Inisialisasi data proyek\n",
        "proyek_list = []\n",
        "\n",
        "# Fungsi untuk menambahkan proyek\n",
        "def tambah_proyek():\n",
        "    nama_proyek = input(\"Masukkan nama proyek: \")\n",
        "    status_proyek = input(\"Masukkan status proyek (dalam pengerjaan/selesai): \")\n",
        "    estimasi_waktu = int(input(\"Masukkan estimasi waktu penyelesaian (dalam hari): \"))\n",
        "\n",
        "    proyek = {\n",
        "        'nama': nama_proyek,\n",
        "        'status': status_proyek,\n",
        "        'estimasi_waktu': estimasi_waktu\n",
        "    }\n",
        "\n",
        "    proyek_list.append(proyek)\n",
        "    print(f\"Proyek '{nama_proyek}' berhasil ditambahkan.\\n\")\n",
        "\n",
        "# Fungsi untuk menampilkan proyek yang masih dalam pengerjaan, diurutkan berdasarkan estimasi waktu\n",
        "def tampilkan_proyek_dalam_pengerjaan():\n",
        "    proyek_dalam_pengerjaan = [proyek for proyek in proyek_list if proyek['status'] == 'dalam pengerjaan']\n",
        "    proyek_dalam_pengerjaan.sort(key=lambda x: x['estimasi_waktu'])\n",
        "\n",
        "    print(\"\\nProyek yang masih dalam pengerjaan (diurutkan berdasarkan estimasi waktu):\")\n",
        "    for proyek in proyek_dalam_pengerjaan:\n",
        "        print(f\"Nama Proyek: {proyek['nama']}, Estimasi Waktu: {proyek['estimasi_waktu']} hari\")\n",
        "\n",
        "# Loop utama program\n",
        "while True:\n",
        "    print(\"\\n[Menu]\")\n",
        "    print(\"1. Tambah Proyek\")\n",
        "    print(\"2. Tampilkan Proyek yang Masih Dalam Pengerjaan\")\n",
        "    print(\"3. Keluar\")\n",
        "\n",
        "    pilihan = input(\"Pilih menu (1/2/3): \")\n",
        "\n",
        "    if pilihan == '1':\n",
        "        tambah_proyek()\n",
        "    elif pilihan == '2':\n",
        "        tampilkan_proyek_dalam_pengerjaan()\n",
        "    elif pilihan == '3':\n",
        "        print(\"Program selesai.\")\n",
        "        break\n",
        "    else:\n",
        "        print(\"Pilihan tidak valid. Silakan pilih menu yang sesuai.\")\n"
      ],
      "metadata": {
        "id": "5cEenHsqtXVB",
        "outputId": "4b43adba-ab3a-409a-bd84-886458226017",
        "colab": {
          "base_uri": "https://localhost:8080/"
        }
      },
      "execution_count": 5,
      "outputs": [
        {
          "output_type": "stream",
          "name": "stdout",
          "text": [
            "\n",
            "[Menu]\n",
            "1. Tambah Proyek\n",
            "2. Tampilkan Proyek yang Masih Dalam Pengerjaan\n",
            "3. Keluar\n",
            "Proyek 'Proyek A' berhasil ditambahkan.\n",
            "\n",
            "\n",
            "[Menu]\n",
            "1. Tambah Proyek\n",
            "2. Tampilkan Proyek yang Masih Dalam Pengerjaan\n",
            "3. Keluar\n",
            "Proyek 'Proyek B' berhasil ditambahkan.\n",
            "\n",
            "\n",
            "[Menu]\n",
            "1. Tambah Proyek\n",
            "2. Tampilkan Proyek yang Masih Dalam Pengerjaan\n",
            "3. Keluar\n",
            "\n",
            "Proyek yang masih dalam pengerjaan (diurutkan berdasarkan estimasi waktu):\n",
            "Nama Proyek: Proyek A, Estimasi Waktu: 10 hari\n",
            "\n",
            "[Menu]\n",
            "1. Tambah Proyek\n",
            "2. Tampilkan Proyek yang Masih Dalam Pengerjaan\n",
            "3. Keluar\n",
            "Pilih menu (1/2/3): 3\n",
            "Program selesai.\n"
          ]
        }
      ]
    }
  ],
  "metadata": {
    "colab": {
      "provenance": [],
      "authorship_tag": "ABX9TyNfydtZ2Y7uXluwFmjRt3hW",
      "include_colab_link": true
    },
    "kernelspec": {
      "display_name": "Python 3",
      "name": "python3"
    },
    "language_info": {
      "name": "python"
    }
  },
  "nbformat": 4,
  "nbformat_minor": 0
}